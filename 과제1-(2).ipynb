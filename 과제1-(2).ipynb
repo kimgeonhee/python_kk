{
 "cells": [
  {
   "cell_type": "code",
   "execution_count": 1,
   "metadata": {
    "collapsed": false
   },
   "outputs": [
    {
     "name": "stdout",
     "output_type": "stream",
     "text": [
      "input integer :4532\n",
      "2354\n"
     ]
    }
   ],
   "source": [
    "#0사용자로 부터 임의의 정수를 입력받고, 해당 숫자를 역순으로 출력하는 프로그램을 작성하시오.\n",
    "\n",
    "i= raw_input('input integer :')\n",
    "i=i[::-1]\n",
    "print i"
   ]
  },
  {
   "cell_type": "markdown",
   "metadata": {},
   "source": [
    "임의의 정수를 문자로 서 인식하게 입력 받은 후 후 slicing 연산자를 통하여 역순으로 출력시켜주도록 [::-1]를 사용해 입력받은 정수를 역순으로 \n",
    "출력 하였습니다."
   ]
  },
  {
   "cell_type": "code",
   "execution_count": 5,
   "metadata": {
    "collapsed": false
   },
   "outputs": [
    {
     "name": "stdout",
     "output_type": "stream",
     "text": [
      "input integer:30\n",
      "2 3 5 7 11 13 17 19 23 29\n"
     ]
    }
   ],
   "source": [
    "#•사용자로 부터 정수를 입력받아서 1부터 그 사이에 존재하는 소수 (Prime number)를 출력하는 파이썬 프로그램을 작성하시오.\n",
    "\n",
    "i = input ('input integer:')\n",
    "for num in range(2,i+1):\n",
    "    co = 0\n",
    "    for n in range(1,num+1):\n",
    "        if num %n ==0:\n",
    "            co +=1\n",
    "        if co >2:\n",
    "                break\n",
    "    if co ==2:\n",
    "                print num,"
   ]
  },
  {
   "cell_type": "markdown",
   "metadata": {},
   "source": [
    "정수를 입력받아 2부터 입력 받은 값까지 for문을 실행하며 변수 co에는 약수의 개수를 저장하여 약수가 2개 이상이되면 break를 통해 출력되지 않고\n",
    "않고 약수가 2개일 경우(1과 자신의값) 그 값을 출력 하도록 하였습니다."
   ]
  },
  {
   "cell_type": "code",
   "execution_count": 4,
   "metadata": {
    "collapsed": false
   },
   "outputs": [
    {
     "name": "stdout",
     "output_type": "stream",
     "text": [
      "233168\n"
     ]
    }
   ],
   "source": [
    "#1000보다 작은 자연수 중에서 3 또는 5의 배수를 모두 더하면?\n",
    "\n",
    "n=1\n",
    "t=0\n",
    "m=1\n",
    "f=0\n",
    "b=1\n",
    "v=0\n",
    "for n in range(1000):\n",
    "    if n%3 ==0:\n",
    "        t=t+n\n",
    "           \n",
    "          \n",
    "            \n",
    "for m in range(1000):\n",
    "    if m%5 ==0:\n",
    "        f=f+m\n",
    "        \n",
    "\n",
    "\n",
    "for b in range(1000):\n",
    "    if b%15 ==0:\n",
    "        v=v+b\n",
    "        \n",
    "\n",
    "\n",
    "print t+f-v"
   ]
  },
  {
   "cell_type": "markdown",
   "metadata": {},
   "source": [
    "처음 for문에서 3의 배수의 합을 구하고 그 다음 for문에서 5의 배수의 합을 구하고 다음 for문에서 15의 배수의 합을 구하여 3의 배수와 5의 배수의\n",
    "합을 더한 후 최소공배수인 15의 배수의 합을 빼주어 문제를 해결하였습니다 "
   ]
  },
  {
   "cell_type": "code",
   "execution_count": 6,
   "metadata": {
    "collapsed": false
   },
   "outputs": [
    {
     "name": "stdout",
     "output_type": "stream",
     "text": [
      "4613732\n"
     ]
    }
   ],
   "source": [
    "'''피보나치 수열의 각 항은 바로 앞의 항 두 개를 더한 것이 됩니다. 1과 2로 시작하는 경우 이 수열은 아래와 같습니다.\n",
    "\n",
    "1, 2, 3, 5, 8, 13, 21, 34, 55, 89, ...\n",
    "짝수이면서 4백만 이하인 모든 항을 더하면 얼마가 됩니까?'''\n",
    "n=1\n",
    "val=0\n",
    "def fi(a):\n",
    "    if a <=1:\n",
    "         return 1\n",
    "    if a ==2:\n",
    "         return 2\n",
    "    else:\n",
    "        return fi(a-1)+fi(a-2)\n",
    "    \n",
    "    \n",
    "while fi(n) <= 4000000:\n",
    "    if fi(n)%2 ==0:\n",
    "        val=val+fi(n)\n",
    "    n=n+1\n",
    "    \n",
    "print val\n",
    "        "
   ]
  },
  {
   "cell_type": "markdown",
   "metadata": {},
   "source": [
    "피보나치수열을 fi()함수로 만들어 선언한 후 while문을 사용해 400만 이하의 숫자중 짝수들만 걸러내기 걸러내기위해 if문을 사용해 짝수를 걸러\n",
    "낸 후에 변수 val에 모든 값들을 더해주어 더해주었습니다."
   ]
  },
  {
   "cell_type": "code",
   "execution_count": 7,
   "metadata": {
    "collapsed": false
   },
   "outputs": [
    {
     "name": "stdout",
     "output_type": "stream",
     "text": [
      "6857\n"
     ]
    }
   ],
   "source": [
    "'''어떤 수를 소수의 곱으로만 나타내는 것을 소인수분해라 하고, 이 소수들을 그 수의 소인수라고 합니다.\n",
    "예를 들면 13195의 소인수는 5, 7, 13, 29 입니다.\n",
    "\n",
    "600851475143의 소인수 중에서 가장 큰 수를 구하세요.'''\n",
    "\n",
    "i = 600851475143\n",
    "for num in range(2,9000):\n",
    "    co = 0\n",
    "    for n in range(1,num+1):\n",
    "        if num %n ==0:\n",
    "            co +=1\n",
    "        if co >2:\n",
    "                break\n",
    "    if co ==2:\n",
    "        if i%num==0:\n",
    "            i=i/num\n",
    "            if i ==1:\n",
    "                print num"
   ]
  },
  {
   "cell_type": "markdown",
   "metadata": {},
   "source": [
    "i에 600851475143을 넣어주고 대략 9000정도까지의 소수를 검사해 주어 소수일 경우에는 i값을 나누어 나누어주어 나머지가 0인 경우 소인수이기\n",
    "때문에 나누어 줍니다. 그리고 그다음 그다음 소수들도 마찮가지로 검사해 주어 i 값이 모두 나누어져 1이 이되는 마지막 변수 num이 가장 큰 소인수\n",
    "이기 때문에 그 값인 값인num값을 출력하여 줍니다."
   ]
  },
  {
   "cell_type": "markdown",
   "metadata": {},
   "source": [
    "#최종 소감\n",
    "처음과제를 하였는데 처음 몇문제는 금방 해결하였지만 마지막 오일러 문제같은 경우는 굉장히 시간이 오래 걸렸습니다. 평소에서 쓰던 C언어나 자바가 아닌 파이썬 문법이 처음이라 어색 하였고 들여쓰기가 참 중요 한걸 느꼇습니다. 파이썬에서는 들여쓰기 연습을 많이 해야 할 것 같습니다. "
   ]
  }
 ],
 "metadata": {
  "kernelspec": {
   "display_name": "Python 2",
   "language": "python",
   "name": "python2"
  },
  "language_info": {
   "codemirror_mode": {
    "name": "ipython",
    "version": 2
   },
   "file_extension": ".py",
   "mimetype": "text/x-python",
   "name": "python",
   "nbconvert_exporter": "python",
   "pygments_lexer": "ipython2",
   "version": "2.7.9"
  }
 },
 "nbformat": 4,
 "nbformat_minor": 0
}
