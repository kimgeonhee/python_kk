{
 "metadata": {
  "kernelspec": {
   "display_name": "Python 2",
   "language": "python",
   "name": "python2"
  },
  "language_info": {
   "codemirror_mode": {
    "name": "ipython",
    "version": 2
   },
   "file_extension": ".py",
   "mimetype": "text/x-python",
   "name": "python",
   "nbconvert_exporter": "python",
   "pygments_lexer": "ipython2",
   "version": "2.7.9"
  },
  "name": "",
  "signature": "sha256:c6b3fcf815366ef19a31877bccf4c0f25c0e1480ba3119ae7540d8dec1765156"
 },
 "nbformat": 3,
 "nbformat_minor": 0,
 "worksheets": [
  {
   "cells": [
    {
     "cell_type": "code",
     "collapsed": false,
     "input": [
      "print abs(round(-4.3))"
     ],
     "language": "python",
     "metadata": {},
     "outputs": [
      {
       "output_type": "stream",
       "stream": "stdout",
       "text": [
        "4.0\n"
       ]
      }
     ],
     "prompt_number": 2
    },
    {
     "cell_type": "code",
     "collapsed": true,
     "input": [
      "\ud574\uc124 : math \ud568\uc218\uc911 \uac12\uc5d0 \ub8e8\ud2b8\ub97c \uc50c\uc6cc\uc8fc\ub294 sqrt() \ud568\uc218\uc640 \uc81c\uacf1\uc744 \ud560 \uc218 \uc788\ub294 pow()\ud568\uc218\ub97c \uc368\uc11c \ubb38\uc81c\ub97c \ud574\uacb0 \ud558\uc600\uc2b5\ub2c8\ub2e4."
     ],
     "language": "python",
     "metadata": {},
     "outputs": [],
     "prompt_number": null
    }
   ],
   "metadata": {}
  }
 ]
}